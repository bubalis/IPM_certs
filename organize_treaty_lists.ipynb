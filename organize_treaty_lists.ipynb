{
 "cells": [
  {
   "cell_type": "code",
   "execution_count": 13,
   "metadata": {},
   "outputs": [],
   "source": [
    "import openpyxl as xl\n",
    "import pandas as pd"
   ]
  },
  {
   "cell_type": "code",
   "execution_count": 68,
   "metadata": {},
   "outputs": [],
   "source": [
    "os.chdir('pesticide_lists')"
   ]
  },
  {
   "cell_type": "code",
   "execution_count": 15,
   "metadata": {},
   "outputs": [],
   "source": [
    "wb=xl.load_workbook('Pesticides Lists.xlsx')"
   ]
  },
  {
   "cell_type": "code",
   "execution_count": 16,
   "metadata": {},
   "outputs": [
    {
     "data": {
      "text/plain": [
       "<openpyxl.workbook.workbook.Workbook at 0x23adc067188>"
      ]
     },
     "execution_count": 16,
     "metadata": {},
     "output_type": "execute_result"
    }
   ],
   "source": [
    "wb"
   ]
  },
  {
   "cell_type": "code",
   "execution_count": 17,
   "metadata": {},
   "outputs": [],
   "source": [
    "sheet=wb['WHO 1a']"
   ]
  },
  {
   "cell_type": "code",
   "execution_count": 18,
   "metadata": {},
   "outputs": [
    {
     "data": {
      "text/plain": [
       "<Worksheet \"WHO 1a\">"
      ]
     },
     "execution_count": 18,
     "metadata": {},
     "output_type": "execute_result"
    }
   ],
   "source": [
    "sheet"
   ]
  },
  {
   "cell_type": "code",
   "execution_count": 19,
   "metadata": {},
   "outputs": [
    {
     "data": {
      "text/plain": [
       "['BREAK_COLUMN',\n",
       " 'BREAK_NONE',\n",
       " 'BREAK_ROW',\n",
       " 'HeaderFooter',\n",
       " 'ORIENTATION_LANDSCAPE',\n",
       " 'ORIENTATION_PORTRAIT',\n",
       " 'PAPERSIZE_A3',\n",
       " 'PAPERSIZE_A4',\n",
       " 'PAPERSIZE_A4_SMALL',\n",
       " 'PAPERSIZE_A5',\n",
       " 'PAPERSIZE_EXECUTIVE',\n",
       " 'PAPERSIZE_LEDGER',\n",
       " 'PAPERSIZE_LEGAL',\n",
       " 'PAPERSIZE_LETTER',\n",
       " 'PAPERSIZE_LETTER_SMALL',\n",
       " 'PAPERSIZE_STATEMENT',\n",
       " 'PAPERSIZE_TABLOID',\n",
       " 'SHEETSTATE_HIDDEN',\n",
       " 'SHEETSTATE_VERYHIDDEN',\n",
       " 'SHEETSTATE_VISIBLE',\n",
       " '_WorkbookChild__title',\n",
       " '__class__',\n",
       " '__delattr__',\n",
       " '__delitem__',\n",
       " '__dict__',\n",
       " '__dir__',\n",
       " '__doc__',\n",
       " '__eq__',\n",
       " '__format__',\n",
       " '__ge__',\n",
       " '__getattribute__',\n",
       " '__getitem__',\n",
       " '__gt__',\n",
       " '__hash__',\n",
       " '__init__',\n",
       " '__init_subclass__',\n",
       " '__iter__',\n",
       " '__le__',\n",
       " '__lt__',\n",
       " '__module__',\n",
       " '__ne__',\n",
       " '__new__',\n",
       " '__reduce__',\n",
       " '__reduce_ex__',\n",
       " '__repr__',\n",
       " '__setattr__',\n",
       " '__setitem__',\n",
       " '__sizeof__',\n",
       " '__str__',\n",
       " '__subclasshook__',\n",
       " '__weakref__',\n",
       " '_add_cell',\n",
       " '_add_column',\n",
       " '_add_row',\n",
       " '_cells',\n",
       " '_cells_by_col',\n",
       " '_cells_by_row',\n",
       " '_charts',\n",
       " '_clean_merge_range',\n",
       " '_comments',\n",
       " '_current_row',\n",
       " '_default_title',\n",
       " '_drawing',\n",
       " '_get_cell',\n",
       " '_hyperlinks',\n",
       " '_id',\n",
       " '_images',\n",
       " '_invalid_row',\n",
       " '_move_cell',\n",
       " '_move_cells',\n",
       " '_parent',\n",
       " '_path',\n",
       " '_pivots',\n",
       " '_print_area',\n",
       " '_print_cols',\n",
       " '_print_rows',\n",
       " '_rel_type',\n",
       " '_rels',\n",
       " '_setup',\n",
       " '_tables',\n",
       " 'active_cell',\n",
       " 'add_chart',\n",
       " 'add_data_validation',\n",
       " 'add_image',\n",
       " 'add_pivot',\n",
       " 'add_table',\n",
       " 'append',\n",
       " 'auto_filter',\n",
       " 'calculate_dimension',\n",
       " 'cell',\n",
       " 'col_breaks',\n",
       " 'column_dimensions',\n",
       " 'columns',\n",
       " 'conditional_formatting',\n",
       " 'data_validations',\n",
       " 'delete_cols',\n",
       " 'delete_rows',\n",
       " 'dimensions',\n",
       " 'encoding',\n",
       " 'evenFooter',\n",
       " 'evenHeader',\n",
       " 'firstFooter',\n",
       " 'firstHeader',\n",
       " 'formula_attributes',\n",
       " 'freeze_panes',\n",
       " 'insert_cols',\n",
       " 'insert_rows',\n",
       " 'iter_cols',\n",
       " 'iter_rows',\n",
       " 'legacy_drawing',\n",
       " 'max_column',\n",
       " 'max_row',\n",
       " 'merge_cells',\n",
       " 'merged_cell_ranges',\n",
       " 'merged_cells',\n",
       " 'mime_type',\n",
       " 'min_column',\n",
       " 'min_row',\n",
       " 'move_range',\n",
       " 'oddFooter',\n",
       " 'oddHeader',\n",
       " 'orientation',\n",
       " 'page_breaks',\n",
       " 'page_margins',\n",
       " 'page_setup',\n",
       " 'paper_size',\n",
       " 'parent',\n",
       " 'path',\n",
       " 'print_area',\n",
       " 'print_options',\n",
       " 'print_title_cols',\n",
       " 'print_title_rows',\n",
       " 'print_titles',\n",
       " 'protection',\n",
       " 'row_breaks',\n",
       " 'row_dimensions',\n",
       " 'rows',\n",
       " 'scenarios',\n",
       " 'selected_cell',\n",
       " 'set_printer_settings',\n",
       " 'sheet_format',\n",
       " 'sheet_properties',\n",
       " 'sheet_state',\n",
       " 'sheet_view',\n",
       " 'show_gridlines',\n",
       " 'show_summary_below',\n",
       " 'show_summary_right',\n",
       " 'tables',\n",
       " 'title',\n",
       " 'unmerge_cells',\n",
       " 'values',\n",
       " 'views']"
      ]
     },
     "execution_count": 19,
     "metadata": {},
     "output_type": "execute_result"
    }
   ],
   "source": [
    "dir(sheet)"
   ]
  },
  {
   "cell_type": "code",
   "execution_count": 20,
   "metadata": {},
   "outputs": [],
   "source": [
    "cell=list(sheet.rows)[0][0]"
   ]
  },
  {
   "cell_type": "code",
   "execution_count": 21,
   "metadata": {},
   "outputs": [
    {
     "data": {
      "text/plain": [
       "'Chemical Name'"
      ]
     },
     "execution_count": 21,
     "metadata": {},
     "output_type": "execute_result"
    }
   ],
   "source": [
    "cell.value"
   ]
  },
  {
   "cell_type": "code",
   "execution_count": null,
   "metadata": {},
   "outputs": [],
   "source": []
  },
  {
   "cell_type": "code",
   "execution_count": 22,
   "metadata": {},
   "outputs": [],
   "source": [
    "def extract_data(sheet):\n",
    "    col_names=[]\n",
    "    data=[]\n",
    "    for row in sheet.rows:\n",
    "        if not col_names:\n",
    "            col_names=[cell.value for cell in row]\n",
    "        else:\n",
    "            data.append([cell.value for cell in row])\n",
    "    data=[d for d in data if any(d)]\n",
    "    return pd.DataFrame(data, columns=col_names)"
   ]
  },
  {
   "cell_type": "code",
   "execution_count": 23,
   "metadata": {},
   "outputs": [
    {
     "data": {
      "text/plain": [
       "['Stockholm Convention', 'Rotterdam Convention Annex III', 'WHO 1a', 'WHO 1b']"
      ]
     },
     "execution_count": 23,
     "metadata": {},
     "output_type": "execute_result"
    }
   ],
   "source": [
    "wb.sheetnames"
   ]
  },
  {
   "cell_type": "code",
   "execution_count": 24,
   "metadata": {},
   "outputs": [],
   "source": [
    "stock=extract_data(wb['Stockholm Convention'])"
   ]
  },
  {
   "cell_type": "code",
   "execution_count": 25,
   "metadata": {},
   "outputs": [],
   "source": [
    "stock.dropna(subset=['Annex'], inplace=True)"
   ]
  },
  {
   "cell_type": "code",
   "execution_count": 26,
   "metadata": {},
   "outputs": [],
   "source": [
    "stock['Stockholm Annex A']=stock['Annex'].str.contains('A:')\n",
    "stock['Stockholm Annex B']=stock['Annex'].str.contains('B:')\n",
    "\n",
    "stock=stock[(stock['Stockholm Annex A']) |(stock['Stockholm Annex B']) ]"
   ]
  },
  {
   "cell_type": "code",
   "execution_count": null,
   "metadata": {},
   "outputs": [],
   "source": []
  },
  {
   "cell_type": "code",
   "execution_count": 28,
   "metadata": {},
   "outputs": [],
   "source": [
    "stock.rename(columns={'CAS number': 'CAS Number'}, inplace=True)"
   ]
  },
  {
   "cell_type": "code",
   "execution_count": 29,
   "metadata": {},
   "outputs": [],
   "source": [
    "stock.rename(columns={'Chemical': 'Chemical Name'}, inplace=True)"
   ]
  },
  {
   "cell_type": "code",
   "execution_count": 30,
   "metadata": {},
   "outputs": [
    {
     "data": {
      "text/plain": [
       "Index([                                     'Annex',\n",
       "                                    'Chemical Name',\n",
       "                                       'CAS Number',\n",
       "                         'Year of listing decision',\n",
       "       'Specific exemptions or acceptable purposes',\n",
       "                                               None,\n",
       "                                'Stockholm Annex A',\n",
       "                                'Stockholm Annex B'],\n",
       "      dtype='object')"
      ]
     },
     "execution_count": 30,
     "metadata": {},
     "output_type": "execute_result"
    }
   ],
   "source": [
    "stock.columns"
   ]
  },
  {
   "cell_type": "code",
   "execution_count": 31,
   "metadata": {},
   "outputs": [],
   "source": [
    "stock=stock[['Chemical Name', 'CAS Number', 'Stockholm Annex A', 'Stockholm Annex B']]"
   ]
  },
  {
   "cell_type": "code",
   "execution_count": 32,
   "metadata": {},
   "outputs": [],
   "source": [
    "df=extract_data(wb['WHO 1a'])"
   ]
  },
  {
   "cell_type": "code",
   "execution_count": 33,
   "metadata": {},
   "outputs": [],
   "source": [
    "df['WHO 1a']=True"
   ]
  },
  {
   "cell_type": "code",
   "execution_count": 34,
   "metadata": {},
   "outputs": [],
   "source": [
    "df1b=extract_data(wb['WHO 1b'])"
   ]
  },
  {
   "cell_type": "code",
   "execution_count": 35,
   "metadata": {},
   "outputs": [],
   "source": [
    "df1b['WHO 1b']=True"
   ]
  },
  {
   "cell_type": "code",
   "execution_count": 36,
   "metadata": {},
   "outputs": [],
   "source": [
    "df_rot=extract_data(wb['Rotterdam Convention Annex III'])"
   ]
  },
  {
   "cell_type": "code",
   "execution_count": 37,
   "metadata": {},
   "outputs": [],
   "source": [
    "df_rot['Rotterdam Annex III']=True"
   ]
  },
  {
   "cell_type": "code",
   "execution_count": 38,
   "metadata": {},
   "outputs": [],
   "source": [
    "df1b.dropna(inplace=True)\n",
    "df_rot.dropna(inplace=True)"
   ]
  },
  {
   "cell_type": "code",
   "execution_count": 39,
   "metadata": {},
   "outputs": [],
   "source": []
  },
  {
   "cell_type": "code",
   "execution_count": null,
   "metadata": {},
   "outputs": [],
   "source": []
  },
  {
   "cell_type": "code",
   "execution_count": 40,
   "metadata": {},
   "outputs": [],
   "source": [
    "merge=pd.concat([df, df1b])"
   ]
  },
  {
   "cell_type": "code",
   "execution_count": 41,
   "metadata": {},
   "outputs": [],
   "source": [
    "merge=pd.concat([merge, df_rot])"
   ]
  },
  {
   "cell_type": "code",
   "execution_count": 42,
   "metadata": {},
   "outputs": [],
   "source": [
    "merge=pd.concat([merge, stock])"
   ]
  },
  {
   "cell_type": "code",
   "execution_count": 43,
   "metadata": {},
   "outputs": [],
   "source": [
    "merge.drop(columns=['PAN Bad'], inplace=True)"
   ]
  },
  {
   "cell_type": "code",
   "execution_count": 44,
   "metadata": {},
   "outputs": [
    {
     "data": {
      "text/html": [
       "<div>\n",
       "<style scoped>\n",
       "    .dataframe tbody tr th:only-of-type {\n",
       "        vertical-align: middle;\n",
       "    }\n",
       "\n",
       "    .dataframe tbody tr th {\n",
       "        vertical-align: top;\n",
       "    }\n",
       "\n",
       "    .dataframe thead th {\n",
       "        text-align: right;\n",
       "    }\n",
       "</style>\n",
       "<table border=\"1\" class=\"dataframe\">\n",
       "  <thead>\n",
       "    <tr style=\"text-align: right;\">\n",
       "      <th></th>\n",
       "      <th>Chemical Name</th>\n",
       "      <th>CAS Number</th>\n",
       "      <th>U.S. EPA PC Code</th>\n",
       "      <th>CA Chem Code</th>\n",
       "      <th>Use Type</th>\n",
       "      <th>Chemical Class</th>\n",
       "      <th>U.S. EPA Registered</th>\n",
       "      <th>WHO 1a</th>\n",
       "      <th>WHO 1b</th>\n",
       "      <th>Rotterdam Annex III</th>\n",
       "      <th>Stockholm Annex A</th>\n",
       "      <th>Stockholm Annex B</th>\n",
       "    </tr>\n",
       "  </thead>\n",
       "  <tbody>\n",
       "    <tr>\n",
       "      <th>0</th>\n",
       "      <td>(E)-Mevinphos</td>\n",
       "      <td>298-01-1, 7786-34-7</td>\n",
       "      <td>015802, 015802</td>\n",
       "      <td>NaN</td>\n",
       "      <td>Insecticide</td>\n",
       "      <td>Organophosphorus</td>\n",
       "      <td>No</td>\n",
       "      <td>True</td>\n",
       "      <td>NaN</td>\n",
       "      <td>NaN</td>\n",
       "      <td>NaN</td>\n",
       "      <td>NaN</td>\n",
       "    </tr>\n",
       "    <tr>\n",
       "      <th>1</th>\n",
       "      <td>(Z)-Mevinphos</td>\n",
       "      <td>338-45-4</td>\n",
       "      <td>015803, 015803</td>\n",
       "      <td>NaN</td>\n",
       "      <td>Insecticide</td>\n",
       "      <td>Organophosphorus</td>\n",
       "      <td>No</td>\n",
       "      <td>True</td>\n",
       "      <td>NaN</td>\n",
       "      <td>NaN</td>\n",
       "      <td>NaN</td>\n",
       "      <td>NaN</td>\n",
       "    </tr>\n",
       "    <tr>\n",
       "      <th>2</th>\n",
       "      <td>1080</td>\n",
       "      <td>62-74-8</td>\n",
       "      <td>075003, 075003</td>\n",
       "      <td>633</td>\n",
       "      <td>Rodenticide, Insecticide</td>\n",
       "      <td>Unclassified</td>\n",
       "      <td>No</td>\n",
       "      <td>True</td>\n",
       "      <td>NaN</td>\n",
       "      <td>NaN</td>\n",
       "      <td>NaN</td>\n",
       "      <td>NaN</td>\n",
       "    </tr>\n",
       "    <tr>\n",
       "      <th>3</th>\n",
       "      <td>Aldicarb</td>\n",
       "      <td>116-06-3</td>\n",
       "      <td>098301, 098301</td>\n",
       "      <td>575</td>\n",
       "      <td>Insecticide, Nematicide</td>\n",
       "      <td>N-Methyl Carbamate</td>\n",
       "      <td>No</td>\n",
       "      <td>True</td>\n",
       "      <td>NaN</td>\n",
       "      <td>NaN</td>\n",
       "      <td>NaN</td>\n",
       "      <td>NaN</td>\n",
       "    </tr>\n",
       "    <tr>\n",
       "      <th>4</th>\n",
       "      <td>Brodifacoum</td>\n",
       "      <td>56073-10-0</td>\n",
       "      <td>112701, 112701</td>\n",
       "      <td>2049</td>\n",
       "      <td>Rodenticide</td>\n",
       "      <td>Coumarin</td>\n",
       "      <td>Yes</td>\n",
       "      <td>True</td>\n",
       "      <td>NaN</td>\n",
       "      <td>NaN</td>\n",
       "      <td>NaN</td>\n",
       "      <td>NaN</td>\n",
       "    </tr>\n",
       "    <tr>\n",
       "      <th>...</th>\n",
       "      <td>...</td>\n",
       "      <td>...</td>\n",
       "      <td>...</td>\n",
       "      <td>...</td>\n",
       "      <td>...</td>\n",
       "      <td>...</td>\n",
       "      <td>...</td>\n",
       "      <td>...</td>\n",
       "      <td>...</td>\n",
       "      <td>...</td>\n",
       "      <td>...</td>\n",
       "      <td>...</td>\n",
       "    </tr>\n",
       "    <tr>\n",
       "      <th>27</th>\n",
       "      <td>Polychlorinated biphenyls (PCBs)</td>\n",
       "      <td>various</td>\n",
       "      <td>NaN</td>\n",
       "      <td>NaN</td>\n",
       "      <td>NaN</td>\n",
       "      <td>NaN</td>\n",
       "      <td>NaN</td>\n",
       "      <td>NaN</td>\n",
       "      <td>NaN</td>\n",
       "      <td>NaN</td>\n",
       "      <td>True</td>\n",
       "      <td>False</td>\n",
       "    </tr>\n",
       "    <tr>\n",
       "      <th>30</th>\n",
       "      <td>Polychlorinated naphthalenes</td>\n",
       "      <td>various</td>\n",
       "      <td>NaN</td>\n",
       "      <td>NaN</td>\n",
       "      <td>NaN</td>\n",
       "      <td>NaN</td>\n",
       "      <td>NaN</td>\n",
       "      <td>NaN</td>\n",
       "      <td>NaN</td>\n",
       "      <td>NaN</td>\n",
       "      <td>True</td>\n",
       "      <td>False</td>\n",
       "    </tr>\n",
       "    <tr>\n",
       "      <th>32</th>\n",
       "      <td>Tetrabromodiphenyl ether and pentabromodipheny...</td>\n",
       "      <td>various</td>\n",
       "      <td>NaN</td>\n",
       "      <td>NaN</td>\n",
       "      <td>NaN</td>\n",
       "      <td>NaN</td>\n",
       "      <td>NaN</td>\n",
       "      <td>NaN</td>\n",
       "      <td>NaN</td>\n",
       "      <td>NaN</td>\n",
       "      <td>True</td>\n",
       "      <td>False</td>\n",
       "    </tr>\n",
       "    <tr>\n",
       "      <th>33</th>\n",
       "      <td>Short-chain chlorinated paraffins (C10–13; chl...</td>\n",
       "      <td>85535-84-8, 68920-70-7, 71011-12-6, 85536-22-7...</td>\n",
       "      <td>NaN</td>\n",
       "      <td>NaN</td>\n",
       "      <td>NaN</td>\n",
       "      <td>NaN</td>\n",
       "      <td>NaN</td>\n",
       "      <td>NaN</td>\n",
       "      <td>NaN</td>\n",
       "      <td>NaN</td>\n",
       "      <td>True</td>\n",
       "      <td>False</td>\n",
       "    </tr>\n",
       "    <tr>\n",
       "      <th>34</th>\n",
       "      <td>Toxaphene</td>\n",
       "      <td>8001-35-2</td>\n",
       "      <td>NaN</td>\n",
       "      <td>NaN</td>\n",
       "      <td>NaN</td>\n",
       "      <td>NaN</td>\n",
       "      <td>NaN</td>\n",
       "      <td>NaN</td>\n",
       "      <td>NaN</td>\n",
       "      <td>NaN</td>\n",
       "      <td>True</td>\n",
       "      <td>False</td>\n",
       "    </tr>\n",
       "  </tbody>\n",
       "</table>\n",
       "<p>181 rows × 12 columns</p>\n",
       "</div>"
      ],
      "text/plain": [
       "                                        Chemical Name  \\\n",
       "0                                       (E)-Mevinphos   \n",
       "1                                       (Z)-Mevinphos   \n",
       "2                                                1080   \n",
       "3                                            Aldicarb   \n",
       "4                                         Brodifacoum   \n",
       "..                                                ...   \n",
       "27                   Polychlorinated biphenyls (PCBs)   \n",
       "30                       Polychlorinated naphthalenes   \n",
       "32  Tetrabromodiphenyl ether and pentabromodipheny...   \n",
       "33  Short-chain chlorinated paraffins (C10–13; chl...   \n",
       "34                                          Toxaphene   \n",
       "\n",
       "                                           CAS Number U.S. EPA PC Code  \\\n",
       "0                                 298-01-1, 7786-34-7   015802, 015802   \n",
       "1                                            338-45-4   015803, 015803   \n",
       "2                                             62-74-8   075003, 075003   \n",
       "3                                            116-06-3   098301, 098301   \n",
       "4                                          56073-10-0   112701, 112701   \n",
       "..                                                ...              ...   \n",
       "27                                            various              NaN   \n",
       "30                                            various              NaN   \n",
       "32                                            various              NaN   \n",
       "33  85535-84-8, 68920-70-7, 71011-12-6, 85536-22-7...              NaN   \n",
       "34                                          8001-35-2              NaN   \n",
       "\n",
       "   CA Chem Code                  Use Type      Chemical Class  \\\n",
       "0           NaN               Insecticide    Organophosphorus   \n",
       "1           NaN               Insecticide    Organophosphorus   \n",
       "2           633  Rodenticide, Insecticide        Unclassified   \n",
       "3           575   Insecticide, Nematicide  N-Methyl Carbamate   \n",
       "4          2049               Rodenticide            Coumarin   \n",
       "..          ...                       ...                 ...   \n",
       "27          NaN                       NaN                 NaN   \n",
       "30          NaN                       NaN                 NaN   \n",
       "32          NaN                       NaN                 NaN   \n",
       "33          NaN                       NaN                 NaN   \n",
       "34          NaN                       NaN                 NaN   \n",
       "\n",
       "   U.S. EPA Registered WHO 1a WHO 1b Rotterdam Annex III Stockholm Annex A  \\\n",
       "0                   No   True    NaN                 NaN               NaN   \n",
       "1                   No   True    NaN                 NaN               NaN   \n",
       "2                   No   True    NaN                 NaN               NaN   \n",
       "3                   No   True    NaN                 NaN               NaN   \n",
       "4                  Yes   True    NaN                 NaN               NaN   \n",
       "..                 ...    ...    ...                 ...               ...   \n",
       "27                 NaN    NaN    NaN                 NaN              True   \n",
       "30                 NaN    NaN    NaN                 NaN              True   \n",
       "32                 NaN    NaN    NaN                 NaN              True   \n",
       "33                 NaN    NaN    NaN                 NaN              True   \n",
       "34                 NaN    NaN    NaN                 NaN              True   \n",
       "\n",
       "   Stockholm Annex B  \n",
       "0                NaN  \n",
       "1                NaN  \n",
       "2                NaN  \n",
       "3                NaN  \n",
       "4                NaN  \n",
       "..               ...  \n",
       "27             False  \n",
       "30             False  \n",
       "32             False  \n",
       "33             False  \n",
       "34             False  \n",
       "\n",
       "[181 rows x 12 columns]"
      ]
     },
     "execution_count": 44,
     "metadata": {},
     "output_type": "execute_result"
    }
   ],
   "source": [
    "merge"
   ]
  },
  {
   "cell_type": "code",
   "execution_count": 45,
   "metadata": {},
   "outputs": [],
   "source": [
    "chems=merge['Chemical Name'].unique()"
   ]
  },
  {
   "cell_type": "code",
   "execution_count": 46,
   "metadata": {},
   "outputs": [
    {
     "data": {
      "text/plain": [
       "Index(['CAS Number', 'U.S. EPA PC Code', 'CA Chem Code', 'Use Type',\n",
       "       'Chemical Class', 'U.S. EPA Registered'],\n",
       "      dtype='object')"
      ]
     },
     "execution_count": 46,
     "metadata": {},
     "output_type": "execute_result"
    }
   ],
   "source": [
    "merge.columns[1:7]"
   ]
  },
  {
   "cell_type": "code",
   "execution_count": 47,
   "metadata": {},
   "outputs": [],
   "source": [
    "data=[]\n",
    "\n",
    "for chem in chems:\n",
    "    row=[chem]\n",
    "    subset=merge[merge['Chemical Name']==chem]\n",
    "    for col in merge.columns [1:7]:\n",
    "        row.append(subset[col].iloc[0])\n",
    "    for col in merge.columns [7:]:\n",
    "        row.append(subset[col].any())\n",
    "    data.append(row)"
   ]
  },
  {
   "cell_type": "code",
   "execution_count": 48,
   "metadata": {},
   "outputs": [],
   "source": [
    "out=pd.DataFrame(data, columns=merge.columns)"
   ]
  },
  {
   "cell_type": "code",
   "execution_count": 51,
   "metadata": {},
   "outputs": [],
   "source": [
    "out.fillna?"
   ]
  },
  {
   "cell_type": "code",
   "execution_count": 54,
   "metadata": {},
   "outputs": [],
   "source": [
    "out[\"U.S. EPA Registered\"]=out[\"U.S. EPA Registered\"].fillna('No')"
   ]
  },
  {
   "cell_type": "code",
   "execution_count": 55,
   "metadata": {},
   "outputs": [],
   "source": [
    "def y_n_tf(string):\n",
    "    if string.lower()=='yes':\n",
    "        return True\n",
    "    else:\n",
    "        return False"
   ]
  },
  {
   "cell_type": "code",
   "execution_count": 56,
   "metadata": {},
   "outputs": [],
   "source": [
    "out[\"U.S. EPA Registered\"]=out[\"U.S. EPA Registered\"].apply(y_n_tf)"
   ]
  },
  {
   "cell_type": "code",
   "execution_count": 67,
   "metadata": {},
   "outputs": [
    {
     "data": {
      "text/plain": [
       "False"
      ]
     },
     "execution_count": 67,
     "metadata": {},
     "output_type": "execute_result"
    }
   ],
   "source": [
    "out[\"U.S. EPA Registered\"].isnull().any()"
   ]
  },
  {
   "cell_type": "code",
   "execution_count": 64,
   "metadata": {},
   "outputs": [],
   "source": [
    "import os"
   ]
  },
  {
   "cell_type": "code",
   "execution_count": 65,
   "metadata": {},
   "outputs": [
    {
     "data": {
      "text/plain": [
       "'C:\\\\Users\\\\benja\\\\Cert_standards'"
      ]
     },
     "execution_count": 65,
     "metadata": {},
     "output_type": "execute_result"
    }
   ],
   "source": [
    "os.getcwd()"
   ]
  },
  {
   "cell_type": "code",
   "execution_count": 66,
   "metadata": {},
   "outputs": [],
   "source": [
    "out.to_csv('restricted_pesticides.txt', sep='\\t')"
   ]
  },
  {
   "cell_type": "code",
   "execution_count": 58,
   "metadata": {},
   "outputs": [],
   "source": [
    "df=pd.read_csv('restricted_pesticides.txt', delimiter='\\t',  )"
   ]
  },
  {
   "cell_type": "code",
   "execution_count": 136,
   "metadata": {},
   "outputs": [],
   "source": [
    "pd.read_csv?"
   ]
  },
  {
   "cell_type": "code",
   "execution_count": 141,
   "metadata": {},
   "outputs": [
    {
     "data": {
      "text/html": [
       "<div>\n",
       "<style scoped>\n",
       "    .dataframe tbody tr th:only-of-type {\n",
       "        vertical-align: middle;\n",
       "    }\n",
       "\n",
       "    .dataframe tbody tr th {\n",
       "        vertical-align: top;\n",
       "    }\n",
       "\n",
       "    .dataframe thead th {\n",
       "        text-align: right;\n",
       "    }\n",
       "</style>\n",
       "<table border=\"1\" class=\"dataframe\">\n",
       "  <thead>\n",
       "    <tr style=\"text-align: right;\">\n",
       "      <th></th>\n",
       "      <th>Unnamed: 0</th>\n",
       "      <th>Chemical Name</th>\n",
       "      <th>CAS Number</th>\n",
       "      <th>U.S. EPA PC Code</th>\n",
       "      <th>CA Chem Code</th>\n",
       "      <th>Use Type</th>\n",
       "      <th>Chemical Class</th>\n",
       "      <th>U.S. EPA Registered</th>\n",
       "      <th>WHO 1a</th>\n",
       "      <th>WHO 1b</th>\n",
       "      <th>Rotterdam Annex III</th>\n",
       "      <th>Stockholm Annex A</th>\n",
       "      <th>Stockholm Annex B</th>\n",
       "    </tr>\n",
       "  </thead>\n",
       "  <tbody>\n",
       "    <tr>\n",
       "      <th>0</th>\n",
       "      <td>0</td>\n",
       "      <td>(E)-Mevinphos</td>\n",
       "      <td>298-01-1, 7786-34-7</td>\n",
       "      <td>015802, 015802</td>\n",
       "      <td>NaN</td>\n",
       "      <td>Insecticide</td>\n",
       "      <td>Organophosphorus</td>\n",
       "      <td>No</td>\n",
       "      <td>True</td>\n",
       "      <td>False</td>\n",
       "      <td>False</td>\n",
       "      <td>False</td>\n",
       "      <td>False</td>\n",
       "    </tr>\n",
       "    <tr>\n",
       "      <th>1</th>\n",
       "      <td>1</td>\n",
       "      <td>(Z)-Mevinphos</td>\n",
       "      <td>338-45-4</td>\n",
       "      <td>015803, 015803</td>\n",
       "      <td>NaN</td>\n",
       "      <td>Insecticide</td>\n",
       "      <td>Organophosphorus</td>\n",
       "      <td>No</td>\n",
       "      <td>True</td>\n",
       "      <td>False</td>\n",
       "      <td>False</td>\n",
       "      <td>False</td>\n",
       "      <td>False</td>\n",
       "    </tr>\n",
       "    <tr>\n",
       "      <th>2</th>\n",
       "      <td>2</td>\n",
       "      <td>1080</td>\n",
       "      <td>62-74-8</td>\n",
       "      <td>075003, 075003</td>\n",
       "      <td>633.0</td>\n",
       "      <td>Rodenticide, Insecticide</td>\n",
       "      <td>Unclassified</td>\n",
       "      <td>No</td>\n",
       "      <td>True</td>\n",
       "      <td>False</td>\n",
       "      <td>False</td>\n",
       "      <td>False</td>\n",
       "      <td>False</td>\n",
       "    </tr>\n",
       "    <tr>\n",
       "      <th>3</th>\n",
       "      <td>3</td>\n",
       "      <td>Aldicarb</td>\n",
       "      <td>116-06-3</td>\n",
       "      <td>098301, 098301</td>\n",
       "      <td>575.0</td>\n",
       "      <td>Insecticide, Nematicide</td>\n",
       "      <td>N-Methyl Carbamate</td>\n",
       "      <td>No</td>\n",
       "      <td>True</td>\n",
       "      <td>False</td>\n",
       "      <td>False</td>\n",
       "      <td>False</td>\n",
       "      <td>False</td>\n",
       "    </tr>\n",
       "    <tr>\n",
       "      <th>4</th>\n",
       "      <td>4</td>\n",
       "      <td>Brodifacoum</td>\n",
       "      <td>56073-10-0</td>\n",
       "      <td>112701, 112701</td>\n",
       "      <td>2049.0</td>\n",
       "      <td>Rodenticide</td>\n",
       "      <td>Coumarin</td>\n",
       "      <td>Yes</td>\n",
       "      <td>True</td>\n",
       "      <td>False</td>\n",
       "      <td>False</td>\n",
       "      <td>False</td>\n",
       "      <td>False</td>\n",
       "    </tr>\n",
       "    <tr>\n",
       "      <th>...</th>\n",
       "      <td>...</td>\n",
       "      <td>...</td>\n",
       "      <td>...</td>\n",
       "      <td>...</td>\n",
       "      <td>...</td>\n",
       "      <td>...</td>\n",
       "      <td>...</td>\n",
       "      <td>...</td>\n",
       "      <td>...</td>\n",
       "      <td>...</td>\n",
       "      <td>...</td>\n",
       "      <td>...</td>\n",
       "      <td>...</td>\n",
       "    </tr>\n",
       "    <tr>\n",
       "      <th>157</th>\n",
       "      <td>157</td>\n",
       "      <td>Perfluorooctane sulfonic acid (PFOS), its salt...</td>\n",
       "      <td>various</td>\n",
       "      <td>NaN</td>\n",
       "      <td>NaN</td>\n",
       "      <td>NaN</td>\n",
       "      <td>NaN</td>\n",
       "      <td>NaN</td>\n",
       "      <td>False</td>\n",
       "      <td>False</td>\n",
       "      <td>False</td>\n",
       "      <td>False</td>\n",
       "      <td>True</td>\n",
       "    </tr>\n",
       "    <tr>\n",
       "      <th>158</th>\n",
       "      <td>158</td>\n",
       "      <td>Polychlorinated biphenyls (PCBs)</td>\n",
       "      <td>various</td>\n",
       "      <td>NaN</td>\n",
       "      <td>NaN</td>\n",
       "      <td>NaN</td>\n",
       "      <td>NaN</td>\n",
       "      <td>NaN</td>\n",
       "      <td>False</td>\n",
       "      <td>False</td>\n",
       "      <td>False</td>\n",
       "      <td>True</td>\n",
       "      <td>False</td>\n",
       "    </tr>\n",
       "    <tr>\n",
       "      <th>159</th>\n",
       "      <td>159</td>\n",
       "      <td>Polychlorinated naphthalenes</td>\n",
       "      <td>various</td>\n",
       "      <td>NaN</td>\n",
       "      <td>NaN</td>\n",
       "      <td>NaN</td>\n",
       "      <td>NaN</td>\n",
       "      <td>NaN</td>\n",
       "      <td>False</td>\n",
       "      <td>False</td>\n",
       "      <td>False</td>\n",
       "      <td>True</td>\n",
       "      <td>False</td>\n",
       "    </tr>\n",
       "    <tr>\n",
       "      <th>160</th>\n",
       "      <td>160</td>\n",
       "      <td>Tetrabromodiphenyl ether and pentabromodipheny...</td>\n",
       "      <td>various</td>\n",
       "      <td>NaN</td>\n",
       "      <td>NaN</td>\n",
       "      <td>NaN</td>\n",
       "      <td>NaN</td>\n",
       "      <td>NaN</td>\n",
       "      <td>False</td>\n",
       "      <td>False</td>\n",
       "      <td>False</td>\n",
       "      <td>True</td>\n",
       "      <td>False</td>\n",
       "    </tr>\n",
       "    <tr>\n",
       "      <th>161</th>\n",
       "      <td>161</td>\n",
       "      <td>Short-chain chlorinated paraffins (C10–13; chl...</td>\n",
       "      <td>85535-84-8, 68920-70-7, 71011-12-6, 85536-22-7...</td>\n",
       "      <td>NaN</td>\n",
       "      <td>NaN</td>\n",
       "      <td>NaN</td>\n",
       "      <td>NaN</td>\n",
       "      <td>NaN</td>\n",
       "      <td>False</td>\n",
       "      <td>False</td>\n",
       "      <td>False</td>\n",
       "      <td>True</td>\n",
       "      <td>False</td>\n",
       "    </tr>\n",
       "  </tbody>\n",
       "</table>\n",
       "<p>162 rows × 13 columns</p>\n",
       "</div>"
      ],
      "text/plain": [
       "     Unnamed: 0                                      Chemical Name  \\\n",
       "0             0                                      (E)-Mevinphos   \n",
       "1             1                                      (Z)-Mevinphos   \n",
       "2             2                                               1080   \n",
       "3             3                                           Aldicarb   \n",
       "4             4                                        Brodifacoum   \n",
       "..          ...                                                ...   \n",
       "157         157  Perfluorooctane sulfonic acid (PFOS), its salt...   \n",
       "158         158                   Polychlorinated biphenyls (PCBs)   \n",
       "159         159                       Polychlorinated naphthalenes   \n",
       "160         160  Tetrabromodiphenyl ether and pentabromodipheny...   \n",
       "161         161  Short-chain chlorinated paraffins (C10–13; chl...   \n",
       "\n",
       "                                            CAS Number U.S. EPA PC Code  \\\n",
       "0                                  298-01-1, 7786-34-7   015802, 015802   \n",
       "1                                             338-45-4   015803, 015803   \n",
       "2                                              62-74-8   075003, 075003   \n",
       "3                                             116-06-3   098301, 098301   \n",
       "4                                           56073-10-0   112701, 112701   \n",
       "..                                                 ...              ...   \n",
       "157                                            various              NaN   \n",
       "158                                            various              NaN   \n",
       "159                                            various              NaN   \n",
       "160                                            various              NaN   \n",
       "161  85535-84-8, 68920-70-7, 71011-12-6, 85536-22-7...              NaN   \n",
       "\n",
       "    CA Chem Code                  Use Type      Chemical Class  \\\n",
       "0            NaN               Insecticide    Organophosphorus   \n",
       "1            NaN               Insecticide    Organophosphorus   \n",
       "2          633.0  Rodenticide, Insecticide        Unclassified   \n",
       "3          575.0   Insecticide, Nematicide  N-Methyl Carbamate   \n",
       "4         2049.0               Rodenticide            Coumarin   \n",
       "..           ...                       ...                 ...   \n",
       "157          NaN                       NaN                 NaN   \n",
       "158          NaN                       NaN                 NaN   \n",
       "159          NaN                       NaN                 NaN   \n",
       "160          NaN                       NaN                 NaN   \n",
       "161          NaN                       NaN                 NaN   \n",
       "\n",
       "    U.S. EPA Registered  WHO 1a  WHO 1b  Rotterdam Annex III  \\\n",
       "0                    No    True   False                False   \n",
       "1                    No    True   False                False   \n",
       "2                    No    True   False                False   \n",
       "3                    No    True   False                False   \n",
       "4                   Yes    True   False                False   \n",
       "..                  ...     ...     ...                  ...   \n",
       "157                 NaN   False   False                False   \n",
       "158                 NaN   False   False                False   \n",
       "159                 NaN   False   False                False   \n",
       "160                 NaN   False   False                False   \n",
       "161                 NaN   False   False                False   \n",
       "\n",
       "     Stockholm Annex A  Stockholm Annex B  \n",
       "0                False              False  \n",
       "1                False              False  \n",
       "2                False              False  \n",
       "3                False              False  \n",
       "4                False              False  \n",
       "..                 ...                ...  \n",
       "157              False               True  \n",
       "158               True              False  \n",
       "159               True              False  \n",
       "160               True              False  \n",
       "161               True              False  \n",
       "\n",
       "[162 rows x 13 columns]"
      ]
     },
     "execution_count": 141,
     "metadata": {},
     "output_type": "execute_result"
    }
   ],
   "source": [
    "df"
   ]
  },
  {
   "cell_type": "code",
   "execution_count": null,
   "metadata": {},
   "outputs": [],
   "source": []
  }
 ],
 "metadata": {
  "kernelspec": {
   "display_name": "Python 3",
   "language": "python",
   "name": "python3"
  },
  "language_info": {
   "codemirror_mode": {
    "name": "ipython",
    "version": 3
   },
   "file_extension": ".py",
   "mimetype": "text/x-python",
   "name": "python",
   "nbconvert_exporter": "python",
   "pygments_lexer": "ipython3",
   "version": "3.8.5"
  }
 },
 "nbformat": 4,
 "nbformat_minor": 2
}
